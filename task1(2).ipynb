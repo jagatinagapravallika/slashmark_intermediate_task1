{
 "cells": [
  {
   "cell_type": "code",
   "execution_count": 6,
   "id": "95e33a07-f3e9-4974-9991-7f6979ff33e0",
   "metadata": {},
   "outputs": [
    {
     "name": "stdout",
     "output_type": "stream",
     "text": [
      "   Recency (months)  Frequency (times)  Monetary (c.c. blood)  Time (months)  \\\n",
      "0                 2                 50                  12500             98   \n",
      "1                 0                 13                   3250             28   \n",
      "2                 1                 16                   4000             35   \n",
      "3                 2                 20                   5000             45   \n",
      "4                 1                 24                   6000             77   \n",
      "\n",
      "   whether he/she donated blood in March 2007  \n",
      "0                                           1  \n",
      "1                                           1  \n",
      "2                                           1  \n",
      "3                                           1  \n",
      "4                                           0  \n",
      "Index(['Recency (months)', 'Frequency (times)', 'Monetary (c.c. blood)',\n",
      "       'Time (months)', 'whether he/she donated blood in March 2007'],\n",
      "      dtype='object')\n",
      "Model Accuracy: 0.72\n"
     ]
    }
   ],
   "source": [
    "import pandas as pd\n",
    "from sklearn.model_selection import train_test_split\n",
    "from sklearn.ensemble import RandomForestClassifier\n",
    "from sklearn.metrics import accuracy_score\n",
    "\n",
    "# Load your data\n",
    "data = pd.read_csv(r\"C:\\Users\\nagap\\Downloads\\Give-Life-Predict-Blood-Donations-master\\Give-Life-Predict-Blood-Donations-master\\datasets\\transfusion.data\")\n",
    "\n",
    "# Display the first few rows of the dataframe to see the column names\n",
    "print(data.head())\n",
    "print(data.columns)\n",
    "\n",
    "# Define features and target\n",
    "X = data.drop(columns=[\"whether he/she donated blood in March 2007\"])\n",
    "y = data[\"whether he/she donated blood in March 2007\"]\n",
    "\n",
    "# Split data\n",
    "X_train, X_test, y_train, y_test = train_test_split(X, y, test_size=0.2, random_state=42)\n",
    "\n",
    "# Train model\n",
    "model = RandomForestClassifier(n_estimators=100, random_state=42)\n",
    "model.fit(X_train, y_train)\n",
    "\n",
    "# Evaluate model\n",
    "y_pred = model.predict(X_test)\n",
    "print(\"Model Accuracy:\", accuracy_score(y_test, y_pred))"
   ]
  },
  {
   "cell_type": "code",
   "execution_count": 8,
   "id": "711ca680-2a7e-4e89-bc7f-d58643806653",
   "metadata": {},
   "outputs": [
    {
     "name": "stdout",
     "output_type": "stream",
     "text": [
      "Random Forest Accuracy: 0.7266666666666667\n"
     ]
    }
   ],
   "source": [
    "from sklearn.ensemble import RandomForestClassifier\n",
    "rf_model = RandomForestClassifier(n_estimators=200, random_state=42)\n",
    "rf_model.fit(X_train, y_train)\n",
    "print(\"Random Forest Accuracy:\", rf_model.score(X_test, y_test))"
   ]
  },
  {
   "cell_type": "code",
   "execution_count": null,
   "id": "6c0bc2e5-1c20-4bd2-9d51-eb0c400a3e3b",
   "metadata": {},
   "outputs": [],
   "source": []
  },
  {
   "cell_type": "code",
   "execution_count": null,
   "id": "e8394d50-5b46-4cad-8507-7e29f6f10163",
   "metadata": {},
   "outputs": [],
   "source": []
  }
 ],
 "metadata": {
  "kernelspec": {
   "display_name": "Python [conda env:base] *",
   "language": "python",
   "name": "conda-base-py"
  },
  "language_info": {
   "codemirror_mode": {
    "name": "ipython",
    "version": 3
   },
   "file_extension": ".py",
   "mimetype": "text/x-python",
   "name": "python",
   "nbconvert_exporter": "python",
   "pygments_lexer": "ipython3",
   "version": "3.12.4"
  }
 },
 "nbformat": 4,
 "nbformat_minor": 5
}
